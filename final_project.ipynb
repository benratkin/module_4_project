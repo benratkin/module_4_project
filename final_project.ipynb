{
 "cells": [
  {
   "cell_type": "markdown",
   "metadata": {},
   "source": [
    "# Module 4 Project: NLP Model to Guage Tweet Sentiment"
   ]
  },
  {
   "cell_type": "markdown",
   "metadata": {},
   "source": [
    " The goal of this project was to take raw twitter data, preprocess it, clean it, explore the tweet data using various statistics, and then create a NLP binary classifier with Sklearn."
   ]
  },
  {
   "cell_type": "markdown",
   "metadata": {},
   "source": [
    "# Setting up"
   ]
  },
  {
   "cell_type": "code",
   "execution_count": 46,
   "metadata": {},
   "outputs": [],
   "source": [
    "from imblearn.over_sampling import SMOTE\n",
    "from nltk.collocations import BigramCollocationFinder, BigramAssocMeasures\n",
    "from nltk.corpus import stopwords\n",
    "from nltk.tokenize import word_tokenize\n",
    "from nltk import FreqDist, regexp_tokenize\n",
    "import matplotlib.pyplot as plt\n",
    "from sklearn.ensemble import RandomForestClassifier\n",
    "from sklearn.feature_extraction.text import TfidfVectorizer\n",
    "from sklearn.linear_model import LogisticRegression\n",
    "from sklearn.metrics import (confusion_matrix, \n",
    "                             f1_score, \n",
    "                             recall_score, \n",
    "                             accuracy_score,\n",
    "                             precision_score,\n",
    "                             plot_confusion_matrix)\n",
    "from sklearn.model_selection import train_test_split, GridSearchCV\n",
    "from sklearn.naive_bayes import MultinomialNB\n",
    "import string\n",
    "import pandas as pd\n",
    "\n",
    "\n",
    "def combine_documents(series):\n",
    "    return [token for tweet in series for token in tweet]\n",
    "    \n",
    "def get_perf_metrics(X_train, y_train, X_test, y_test, clf):\n",
    "    fig, (ax1, ax2) = plt.subplots(1, 2, figsize=(16,5))\n",
    "    print('Training metrics:')\n",
    "    y_pred_train = clf.predict(X_train)\n",
    "    print_scores(y_train, y_pred_train)\n",
    "    ax1.set_title('Train Confusion Matrix')\n",
    "    plot_confusion_matrix(clf, X_train, y_train,\n",
    "                          cmap=plt.cm.Blues,\n",
    "                          values_format = '',\n",
    "                          # normalize='true',\n",
    "                         ax=ax1)    \n",
    "    print()\n",
    "    print('Test metrics')\n",
    "    y_pred_test = clf.predict(X_test)\n",
    "    print_scores(y_test, y_pred_test)\n",
    "    ax2.set_title('Test Confusion Matrix')\n",
    "    plot_confusion_matrix(clf, X_test, y_test,\n",
    "                          cmap=plt.cm.Blues,\n",
    "                          values_format = '',\n",
    "                          # normalize='true',\n",
    "                          ax=ax2);\n",
    "\n",
    "def print_scores(y_true, y_pred):\n",
    "    print(f'f1_score: {round(f1_score(y_true, y_pred), 3)}')\n",
    "    print(f'accuracy_score: {round(accuracy_score(y_true, y_pred), 3)}')\n",
    "    print(f'recall_score: {round(recall_score(y_true, y_pred), 3)}')\n",
    "    print(f'precision_score: {round(precision_score(y_true, y_pred), 3)}')"
   ]
  },
  {
   "cell_type": "code",
   "execution_count": 2,
   "metadata": {},
   "outputs": [],
   "source": [
    "# Read in CSV file ignoring and dropping non-utf8 characters\n",
    "csv_file = open('judge-1377884607_tweet_product_company.csv', encoding='utf-8', errors='ignore')"
   ]
  },
  {
   "cell_type": "code",
   "execution_count": 3,
   "metadata": {},
   "outputs": [],
   "source": [
    "# Create the dataframe\n",
    "df = pd.read_csv(csv_file)"
   ]
  },
  {
   "cell_type": "code",
   "execution_count": 4,
   "metadata": {},
   "outputs": [],
   "source": [
    "# Rename columns with really long names\n",
    "df.columns = ['tweet_text', 'emotion_directed_at', 'emotion_directed_at_brand']"
   ]
  },
  {
   "cell_type": "code",
   "execution_count": 5,
   "metadata": {},
   "outputs": [
    {
     "name": "stdout",
     "output_type": "stream",
     "text": [
      "<class 'pandas.core.frame.DataFrame'>\n",
      "RangeIndex: 9093 entries, 0 to 9092\n",
      "Data columns (total 3 columns):\n",
      "tweet_text                   9092 non-null object\n",
      "emotion_directed_at          3291 non-null object\n",
      "emotion_directed_at_brand    9093 non-null object\n",
      "dtypes: object(3)\n",
      "memory usage: 213.2+ KB\n"
     ]
    }
   ],
   "source": [
    "# Inspecting columns\n",
    "df.info()"
   ]
  },
  {
   "cell_type": "code",
   "execution_count": 6,
   "metadata": {},
   "outputs": [
    {
     "data": {
      "text/html": [
       "<div>\n",
       "<style scoped>\n",
       "    .dataframe tbody tr th:only-of-type {\n",
       "        vertical-align: middle;\n",
       "    }\n",
       "\n",
       "    .dataframe tbody tr th {\n",
       "        vertical-align: top;\n",
       "    }\n",
       "\n",
       "    .dataframe thead th {\n",
       "        text-align: right;\n",
       "    }\n",
       "</style>\n",
       "<table border=\"1\" class=\"dataframe\">\n",
       "  <thead>\n",
       "    <tr style=\"text-align: right;\">\n",
       "      <th></th>\n",
       "      <th>tweet_text</th>\n",
       "      <th>emotion_directed_at</th>\n",
       "      <th>emotion_directed_at_brand</th>\n",
       "    </tr>\n",
       "  </thead>\n",
       "  <tbody>\n",
       "    <tr>\n",
       "      <td>0</td>\n",
       "      <td>.@wesley83 I have a 3G iPhone. After 3 hrs twe...</td>\n",
       "      <td>iPhone</td>\n",
       "      <td>Negative emotion</td>\n",
       "    </tr>\n",
       "    <tr>\n",
       "      <td>1</td>\n",
       "      <td>@jessedee Know about @fludapp ? Awesome iPad/i...</td>\n",
       "      <td>iPad or iPhone App</td>\n",
       "      <td>Positive emotion</td>\n",
       "    </tr>\n",
       "    <tr>\n",
       "      <td>2</td>\n",
       "      <td>@swonderlin Can not wait for #iPad 2 also. The...</td>\n",
       "      <td>iPad</td>\n",
       "      <td>Positive emotion</td>\n",
       "    </tr>\n",
       "    <tr>\n",
       "      <td>3</td>\n",
       "      <td>@sxsw I hope this year's festival isn't as cra...</td>\n",
       "      <td>iPad or iPhone App</td>\n",
       "      <td>Negative emotion</td>\n",
       "    </tr>\n",
       "    <tr>\n",
       "      <td>4</td>\n",
       "      <td>@sxtxstate great stuff on Fri #SXSW: Marissa M...</td>\n",
       "      <td>Google</td>\n",
       "      <td>Positive emotion</td>\n",
       "    </tr>\n",
       "  </tbody>\n",
       "</table>\n",
       "</div>"
      ],
      "text/plain": [
       "                                          tweet_text emotion_directed_at  \\\n",
       "0  .@wesley83 I have a 3G iPhone. After 3 hrs twe...              iPhone   \n",
       "1  @jessedee Know about @fludapp ? Awesome iPad/i...  iPad or iPhone App   \n",
       "2  @swonderlin Can not wait for #iPad 2 also. The...                iPad   \n",
       "3  @sxsw I hope this year's festival isn't as cra...  iPad or iPhone App   \n",
       "4  @sxtxstate great stuff on Fri #SXSW: Marissa M...              Google   \n",
       "\n",
       "  emotion_directed_at_brand  \n",
       "0          Negative emotion  \n",
       "1          Positive emotion  \n",
       "2          Positive emotion  \n",
       "3          Negative emotion  \n",
       "4          Positive emotion  "
      ]
     },
     "execution_count": 6,
     "metadata": {},
     "output_type": "execute_result"
    }
   ],
   "source": [
    "# Inspecting values\n",
    "df.head()"
   ]
  },
  {
   "cell_type": "code",
   "execution_count": 7,
   "metadata": {},
   "outputs": [
    {
     "data": {
      "text/plain": [
       "0       .@wesley83 I have a 3G iPhone. After 3 hrs twe...\n",
       "1       @jessedee Know about @fludapp ? Awesome iPad/i...\n",
       "2       @swonderlin Can not wait for #iPad 2 also. The...\n",
       "3       @sxsw I hope this year's festival isn't as cra...\n",
       "4       @sxtxstate great stuff on Fri #SXSW: Marissa M...\n",
       "                              ...                        \n",
       "9088                        Ipad everywhere. #SXSW {link}\n",
       "9089    Wave, buzz... RT @mention We interrupt your re...\n",
       "9090    Google's Zeiger, a physician never reported po...\n",
       "9091    Some Verizon iPhone customers complained their...\n",
       "9092    ϡ_ʋ΋ҋ⋁__RT @mention Google Tests Check-in Offe...\n",
       "Name: tweet_text, Length: 9093, dtype: object"
      ]
     },
     "execution_count": 7,
     "metadata": {},
     "output_type": "execute_result"
    }
   ],
   "source": [
    "# Closer look at tweet_text column\n",
    "df.tweet_text"
   ]
  },
  {
   "cell_type": "markdown",
   "metadata": {},
   "source": [
    "Alright, now that we have a pretty good idea of what the data looks like let's get to cleanin'!"
   ]
  },
  {
   "cell_type": "markdown",
   "metadata": {},
   "source": [
    "## Preprocessing data"
   ]
  },
  {
   "cell_type": "markdown",
   "metadata": {},
   "source": [
    "The biggest problem that I see first is that the our target variable, \"emotion_directed_at_brand\", includes many values that are \"No emotion toward brand or product\"."
   ]
  },
  {
   "cell_type": "code",
   "execution_count": 8,
   "metadata": {},
   "outputs": [
    {
     "data": {
      "text/plain": [
       "No emotion toward brand or product    5389\n",
       "Positive emotion                      2978\n",
       "Negative emotion                       570\n",
       "I can't tell                           156\n",
       "Name: emotion_directed_at_brand, dtype: int64"
      ]
     },
     "execution_count": 8,
     "metadata": {},
     "output_type": "execute_result"
    }
   ],
   "source": [
    "# The current classes and their counts\n",
    "df.emotion_directed_at_brand.value_counts()"
   ]
  },
  {
   "cell_type": "markdown",
   "metadata": {},
   "source": [
    " In fact, 59% of responses were \"No emotion toward brand or product\"."
   ]
  },
  {
   "cell_type": "code",
   "execution_count": 9,
   "metadata": {},
   "outputs": [
    {
     "data": {
      "text/plain": [
       "0.5926536896513802"
      ]
     },
     "execution_count": 9,
     "metadata": {},
     "output_type": "execute_result"
    }
   ],
   "source": [
    "# Percentage of labels that were 'No emotion toward brand or product'?\n",
    "len(df.loc[df.emotion_directed_at_brand == 'No emotion toward brand or product']) / len(df)"
   ]
  },
  {
   "cell_type": "markdown",
   "metadata": {},
   "source": [
    "Our main goal is to be able to correctly classify positive and negative tweets. Rather than train our data on a dataset that has 3 or 4 ambiguous classes, including a classification for \"I can't tell\", we'll use a subset of the data that includes only those tweets that were definitively positive or negative. This way our model will learn the true meaningful differences between the two outcomes rather than being trained on noisy, meaningless data."
   ]
  },
  {
   "cell_type": "code",
   "execution_count": 10,
   "metadata": {},
   "outputs": [],
   "source": [
    "# Drop the 'No emotion toward brand or product' rows\n",
    "drop_no_emotion = df.loc[df.emotion_directed_at_brand == 'No emotion toward brand or product'].index\n",
    "df = df.drop(drop_no_emotion)"
   ]
  },
  {
   "cell_type": "code",
   "execution_count": 11,
   "metadata": {},
   "outputs": [],
   "source": [
    "# Also drop \"I can't tell\" rows\n",
    "drop_cant_tell = df.loc[df.emotion_directed_at_brand == \"I can't tell\"].index\n",
    "df = df.drop(drop_cant_tell)"
   ]
  },
  {
   "cell_type": "code",
   "execution_count": 12,
   "metadata": {},
   "outputs": [
    {
     "data": {
      "text/plain": [
       "array(['Negative emotion', 'Positive emotion'], dtype=object)"
      ]
     },
     "execution_count": 12,
     "metadata": {},
     "output_type": "execute_result"
    }
   ],
   "source": [
    "# There are only two classes now\n",
    "df.emotion_directed_at_brand.unique()"
   ]
  },
  {
   "cell_type": "markdown",
   "metadata": {},
   "source": [
    "Perfect. Now we have only two classes. Let's binarize them by converting them to 0s and 1s instead of their string representations."
   ]
  },
  {
   "cell_type": "code",
   "execution_count": 13,
   "metadata": {},
   "outputs": [],
   "source": [
    "# Binarize emotion_directed_at_brand\n",
    "df.emotion_directed_at_brand = df.emotion_directed_at_brand.map(lambda x: 1 if x == 'Positive emotion' else 0)"
   ]
  },
  {
   "cell_type": "code",
   "execution_count": 14,
   "metadata": {},
   "outputs": [
    {
     "data": {
      "text/plain": [
       "1    2978\n",
       "0     570\n",
       "Name: emotion_directed_at_brand, dtype: int64"
      ]
     },
     "execution_count": 14,
     "metadata": {},
     "output_type": "execute_result"
    }
   ],
   "source": [
    "# Everything looks good, 2 classes (0 and 1)\n",
    "df.emotion_directed_at_brand.value_counts()"
   ]
  },
  {
   "cell_type": "markdown",
   "metadata": {},
   "source": [
    "There may be class imbalance problems. It looks like the positive comments outweigh the negative comments 6:1. We'll run the model without solving that first then address it if needed later."
   ]
  },
  {
   "cell_type": "markdown",
   "metadata": {},
   "source": [
    "Now that the target variables is cleaned up a bit, let's start tokenizing the tweets to prepare them to be modeled."
   ]
  },
  {
   "cell_type": "code",
   "execution_count": 15,
   "metadata": {},
   "outputs": [],
   "source": [
    "# TODO: Change Regex because tokens aren't correct\n",
    "# Pattern to capture words with apostrophes as one token\n",
    "pattern = \"([a-zA-Z]+(?:'[a-z]+)?)\"\n",
    "\n",
    "# Casting tweet_text to string or the tokenization doesn't work\n",
    "df['tweet_text'] = df['tweet_text'].astype('str')\n",
    "\n",
    "# Tokenizing tweets and inserting into df\n",
    "df['raw_tokens'] = df['tweet_text'].map(lambda x: regexp_tokenize(x, pattern))\n",
    "\n",
    "# Lowercase all tokens\n",
    "df['raw_tokens'] = df['raw_tokens'].map(lambda x: [y.lower() for y in x])"
   ]
  },
  {
   "cell_type": "code",
   "execution_count": 16,
   "metadata": {},
   "outputs": [
    {
     "data": {
      "text/html": [
       "<div>\n",
       "<style scoped>\n",
       "    .dataframe tbody tr th:only-of-type {\n",
       "        vertical-align: middle;\n",
       "    }\n",
       "\n",
       "    .dataframe tbody tr th {\n",
       "        vertical-align: top;\n",
       "    }\n",
       "\n",
       "    .dataframe thead th {\n",
       "        text-align: right;\n",
       "    }\n",
       "</style>\n",
       "<table border=\"1\" class=\"dataframe\">\n",
       "  <thead>\n",
       "    <tr style=\"text-align: right;\">\n",
       "      <th></th>\n",
       "      <th>tweet_text</th>\n",
       "      <th>raw_tokens</th>\n",
       "    </tr>\n",
       "  </thead>\n",
       "  <tbody>\n",
       "    <tr>\n",
       "      <td>0</td>\n",
       "      <td>.@wesley83 I have a 3G iPhone. After 3 hrs twe...</td>\n",
       "      <td>[wesley, i, have, a, g, iphone, after, hrs, tw...</td>\n",
       "    </tr>\n",
       "    <tr>\n",
       "      <td>1</td>\n",
       "      <td>@jessedee Know about @fludapp ? Awesome iPad/i...</td>\n",
       "      <td>[jessedee, know, about, fludapp, awesome, ipad...</td>\n",
       "    </tr>\n",
       "    <tr>\n",
       "      <td>2</td>\n",
       "      <td>@swonderlin Can not wait for #iPad 2 also. The...</td>\n",
       "      <td>[swonderlin, can, not, wait, for, ipad, also, ...</td>\n",
       "    </tr>\n",
       "    <tr>\n",
       "      <td>3</td>\n",
       "      <td>@sxsw I hope this year's festival isn't as cra...</td>\n",
       "      <td>[sxsw, i, hope, this, year's, festival, isn't,...</td>\n",
       "    </tr>\n",
       "    <tr>\n",
       "      <td>4</td>\n",
       "      <td>@sxtxstate great stuff on Fri #SXSW: Marissa M...</td>\n",
       "      <td>[sxtxstate, great, stuff, on, fri, sxsw, maris...</td>\n",
       "    </tr>\n",
       "    <tr>\n",
       "      <td>7</td>\n",
       "      <td>#SXSW is just starting, #CTIA is around the co...</td>\n",
       "      <td>[sxsw, is, just, starting, ctia, is, around, t...</td>\n",
       "    </tr>\n",
       "    <tr>\n",
       "      <td>8</td>\n",
       "      <td>Beautifully smart and simple idea RT @madebyma...</td>\n",
       "      <td>[beautifully, smart, and, simple, idea, rt, ma...</td>\n",
       "    </tr>\n",
       "    <tr>\n",
       "      <td>9</td>\n",
       "      <td>Counting down the days to #sxsw plus strong Ca...</td>\n",
       "      <td>[counting, down, the, days, to, sxsw, plus, st...</td>\n",
       "    </tr>\n",
       "    <tr>\n",
       "      <td>10</td>\n",
       "      <td>Excited to meet the @samsungmobileus at #sxsw ...</td>\n",
       "      <td>[excited, to, meet, the, samsungmobileus, at, ...</td>\n",
       "    </tr>\n",
       "  </tbody>\n",
       "</table>\n",
       "</div>"
      ],
      "text/plain": [
       "                                           tweet_text  \\\n",
       "0   .@wesley83 I have a 3G iPhone. After 3 hrs twe...   \n",
       "1   @jessedee Know about @fludapp ? Awesome iPad/i...   \n",
       "2   @swonderlin Can not wait for #iPad 2 also. The...   \n",
       "3   @sxsw I hope this year's festival isn't as cra...   \n",
       "4   @sxtxstate great stuff on Fri #SXSW: Marissa M...   \n",
       "7   #SXSW is just starting, #CTIA is around the co...   \n",
       "8   Beautifully smart and simple idea RT @madebyma...   \n",
       "9   Counting down the days to #sxsw plus strong Ca...   \n",
       "10  Excited to meet the @samsungmobileus at #sxsw ...   \n",
       "\n",
       "                                           raw_tokens  \n",
       "0   [wesley, i, have, a, g, iphone, after, hrs, tw...  \n",
       "1   [jessedee, know, about, fludapp, awesome, ipad...  \n",
       "2   [swonderlin, can, not, wait, for, ipad, also, ...  \n",
       "3   [sxsw, i, hope, this, year's, festival, isn't,...  \n",
       "4   [sxtxstate, great, stuff, on, fri, sxsw, maris...  \n",
       "7   [sxsw, is, just, starting, ctia, is, around, t...  \n",
       "8   [beautifully, smart, and, simple, idea, rt, ma...  \n",
       "9   [counting, down, the, days, to, sxsw, plus, st...  \n",
       "10  [excited, to, meet, the, samsungmobileus, at, ...  "
      ]
     },
     "execution_count": 16,
     "metadata": {},
     "output_type": "execute_result"
    }
   ],
   "source": [
    "# Verify that the tokenization worked correctly\n",
    "df[['tweet_text', 'raw_tokens']].loc[:10]"
   ]
  },
  {
   "cell_type": "markdown",
   "metadata": {},
   "source": [
    "Let's take a quick look at the most common words in our corpus..."
   ]
  },
  {
   "cell_type": "code",
   "execution_count": 17,
   "metadata": {},
   "outputs": [],
   "source": [
    "# Create bag of words by getting frequency distribution of all words\n",
    "all_words_raw = combine_documents(df.raw_tokens)\n",
    "tweets_freq_dist = FreqDist(all_words_raw)"
   ]
  },
  {
   "cell_type": "code",
   "execution_count": 18,
   "metadata": {},
   "outputs": [
    {
     "data": {
      "text/plain": [
       "[('sxsw', 3736),\n",
       " ('mention', 2507),\n",
       " ('the', 1911),\n",
       " ('ipad', 1449),\n",
       " ('to', 1419),\n",
       " ('link', 1319),\n",
       " ('at', 1167),\n",
       " ('rt', 1075),\n",
       " ('for', 1029),\n",
       " ('apple', 1011),\n",
       " ('a', 956),\n",
       " ('google', 830),\n",
       " ('is', 807),\n",
       " ('of', 772),\n",
       " ('in', 761),\n",
       " ('iphone', 711),\n",
       " ('and', 679),\n",
       " ('quot', 639),\n",
       " ('store', 596),\n",
       " ('i', 590),\n",
       " ('on', 542),\n",
       " ('up', 510),\n",
       " ('app', 461),\n",
       " ('it', 431),\n",
       " ('my', 408)]"
      ]
     },
     "execution_count": 18,
     "metadata": {},
     "output_type": "execute_result"
    }
   ],
   "source": [
    "# Top 25 most common words in tweet corpus\n",
    "tweets_freq_dist.most_common(25)"
   ]
  },
  {
   "cell_type": "markdown",
   "metadata": {},
   "source": [
    "Clearly we need to remove stopwords and then I think we'll be done and ready to start exploring the dataset!"
   ]
  },
  {
   "cell_type": "code",
   "execution_count": 19,
   "metadata": {},
   "outputs": [],
   "source": [
    "# Remove stopwords\n",
    "stopwords_list = stopwords.words('english')\n",
    "stopwords_list += list(string.punctuation)\n",
    "df['raw_tokens_stopped'] = df['raw_tokens'].map(lambda x: [y for y in x if y not in stopwords_list])"
   ]
  },
  {
   "cell_type": "markdown",
   "metadata": {},
   "source": [
    "# Corpus Statistics"
   ]
  },
  {
   "cell_type": "markdown",
   "metadata": {},
   "source": [
    "As a first look into our body of tweet text, let's see the frequency distribution of our new tokens with stopwords removed."
   ]
  },
  {
   "cell_type": "code",
   "execution_count": 20,
   "metadata": {},
   "outputs": [
    {
     "data": {
      "text/plain": [
       "[('sxsw', 3736),\n",
       " ('mention', 2507),\n",
       " ('ipad', 1449),\n",
       " ('link', 1319),\n",
       " ('rt', 1075),\n",
       " ('apple', 1011),\n",
       " ('google', 830),\n",
       " ('iphone', 711),\n",
       " ('quot', 639),\n",
       " ('store', 596),\n",
       " ('app', 461),\n",
       " ('new', 403),\n",
       " ('austin', 323),\n",
       " ('amp', 233),\n",
       " ('android', 233),\n",
       " ('pop', 231),\n",
       " ('get', 182),\n",
       " ('launch', 182),\n",
       " ('circles', 156),\n",
       " ('social', 155),\n",
       " ('like', 154),\n",
       " ('line', 150),\n",
       " ('time', 147),\n",
       " ('via', 146),\n",
       " ('great', 145)]"
      ]
     },
     "execution_count": 20,
     "metadata": {},
     "output_type": "execute_result"
    }
   ],
   "source": [
    "# Frequency distribution of new tokens\n",
    "all_words_stopped = combine_documents(df.raw_tokens_stopped)\n",
    "tweets_freq_dist = FreqDist(all_words_stopped)\n",
    "freq_dist_top_25 = tweets_freq_dist.most_common(25)\n",
    "freq_dist_top_25"
   ]
  },
  {
   "cell_type": "markdown",
   "metadata": {},
   "source": [
    "## What is the total vocabulary size of our dataset?"
   ]
  },
  {
   "cell_type": "code",
   "execution_count": 21,
   "metadata": {},
   "outputs": [
    {
     "data": {
      "text/plain": [
       "5753"
      ]
     },
     "execution_count": 21,
     "metadata": {},
     "output_type": "execute_result"
    }
   ],
   "source": [
    "# Vocabulary size\n",
    "len(set(all_words_stopped))"
   ]
  },
  {
   "cell_type": "markdown",
   "metadata": {},
   "source": [
    "## What is the normalized word frequency (percentage of total words)?"
   ]
  },
  {
   "cell_type": "code",
   "execution_count": 22,
   "metadata": {},
   "outputs": [
    {
     "name": "stdout",
     "output_type": "stream",
     "text": [
      "sxsw           0.0851\n",
      "mention        0.0571\n",
      "ipad           0.033\n",
      "link           0.03\n",
      "rt             0.0245\n",
      "apple          0.023\n",
      "google         0.0189\n",
      "iphone         0.0162\n",
      "quot           0.0146\n",
      "store          0.0136\n",
      "app            0.0105\n",
      "new            0.00918\n",
      "austin         0.00735\n",
      "amp            0.00531\n",
      "android        0.00531\n",
      "pop            0.00526\n",
      "get            0.00414\n",
      "launch         0.00414\n",
      "circles        0.00355\n",
      "social         0.00353\n",
      "like           0.00351\n",
      "line           0.00342\n",
      "time           0.00335\n",
      "via            0.00332\n",
      "great          0.0033\n"
     ]
    }
   ],
   "source": [
    "# Normalized word frequencies\n",
    "for word in freq_dist_top_25:\n",
    "    normalized_frequency = word[1] / len(all_words_stopped)\n",
    "    print(f'{word[0]:15}{normalized_frequency:.3}')"
   ]
  },
  {
   "cell_type": "markdown",
   "metadata": {},
   "source": [
    "## Making bigrams from tweets to find common word phrases in our corpus"
   ]
  },
  {
   "cell_type": "markdown",
   "metadata": {},
   "source": [
    "Rather than just relying on the frequencies of individual words, it may be more informative to see the frequency distribution of bigrams or word pairs. Creating bigrams is one way to vectorize the text in preparation for modeling but we'll actually end up using a different vectorizer. More on that later. For now, bigrams!"
   ]
  },
  {
   "cell_type": "code",
   "execution_count": 23,
   "metadata": {},
   "outputs": [
    {
     "data": {
      "text/plain": [
       "[(('rt', 'mention'), 0.02381765603297129),\n",
       " (('sxsw', 'link'), 0.007719106496345379),\n",
       " (('mention', 'sxsw'), 0.005988569346722226),\n",
       " (('sxsw', 'rt'), 0.005851947992804609),\n",
       " (('apple', 'store'), 0.005533164833663501),\n",
       " (('link', 'sxsw'), 0.005214381674522394),\n",
       " (('sxsw', 'mention'), 0.004235261971446137),\n",
       " (('mention', 'mention'), 0.004075870391875584),\n",
       " (('iphone', 'app'), 0.003620465878816859),\n",
       " (('link', 'rt'), 0.0035521552018580502),\n",
       " (('sxsw', 'apple'), 0.003210601817064007),\n",
       " (('sxsw', 'ipad'), 0.0031422911401051985),\n",
       " (('ipad', 'sxsw'), 0.0031195209144522624),\n",
       " (('pop', 'store'), 0.0030739804631463898),\n",
       " (('mention', 'google'), 0.0028918186579229),\n",
       " (('store', 'sxsw'), 0.0028918186579229),\n",
       " (('via', 'mention'), 0.0027551973040052828),\n",
       " (('austin', 'sxsw'), 0.002504724821822984),\n",
       " (('mention', 'apple'), 0.002368103467905367),\n",
       " (('mention', 'rt'), 0.002368103467905367),\n",
       " (('social', 'network'), 0.002254252339640686),\n",
       " (('new', 'social'), 0.0021176309857230684),\n",
       " (('google', 'maps'), 0.0020265500831113236),\n",
       " (('sxsw', 'quot'), 0.001958239406152515),\n",
       " (('link', 'via'), 0.0019126989548466425)]"
      ]
     },
     "execution_count": 23,
     "metadata": {},
     "output_type": "execute_result"
    }
   ],
   "source": [
    "# Find and score the frequencies of bigrams\n",
    "tweet_bigram_finder = BigramCollocationFinder.from_words(all_words_stopped)\n",
    "tweet_bigram_scored = tweet_bigram_finder.score_ngrams(BigramAssocMeasures().raw_freq)\n",
    "tweet_bigram_scored[:25]"
   ]
  },
  {
   "cell_type": "markdown",
   "metadata": {},
   "source": [
    "# Modeling the data"
   ]
  },
  {
   "cell_type": "markdown",
   "metadata": {},
   "source": [
    "Alright, so vectorization. We'll use a technique called TF-IDF vectorization. The TF-IDF score is a statistical measure to indicate any given term's importance within a document. The TF-IDF vectorizer will take our training data as input and will output a sparse matrix of features which can be fed to our model."
   ]
  },
  {
   "cell_type": "code",
   "execution_count": 24,
   "metadata": {},
   "outputs": [],
   "source": [
    "# Recreate tweet documents after preprocessing steps turned them into lists\n",
    "df['cleaned_doc'] = df.raw_tokens_stopped.map(lambda x: ' '.join(x))"
   ]
  },
  {
   "cell_type": "code",
   "execution_count": 25,
   "metadata": {},
   "outputs": [],
   "source": [
    "# Implement train/test split of dataset\n",
    "X_train, X_test, y_train, y_test = train_test_split(\n",
    "    df.cleaned_doc, df.emotion_directed_at_brand, test_size=0.20, random_state=42)"
   ]
  },
  {
   "cell_type": "markdown",
   "metadata": {},
   "source": [
    "## Vectorize the data"
   ]
  },
  {
   "cell_type": "code",
   "execution_count": 26,
   "metadata": {},
   "outputs": [],
   "source": [
    "# Instantiate vectorizer object\n",
    "vectorizer = TfidfVectorizer()\n",
    "\n",
    "# Fit the vectorizer\n",
    "tf_idf_X_train = vectorizer.fit_transform(X_train)\n",
    "tf_idf_X_test = vectorizer.transform(X_test)"
   ]
  },
  {
   "cell_type": "code",
   "execution_count": 27,
   "metadata": {},
   "outputs": [
    {
     "data": {
      "text/plain": [
       "(2838, 5096)"
      ]
     },
     "execution_count": 27,
     "metadata": {},
     "output_type": "execute_result"
    }
   ],
   "source": [
    "# How many rows and columns in our finished training set\n",
    "tf_idf_X_train.shape"
   ]
  },
  {
   "cell_type": "code",
   "execution_count": 28,
   "metadata": {},
   "outputs": [
    {
     "data": {
      "text/plain": [
       "(710, 5096)"
      ]
     },
     "execution_count": 28,
     "metadata": {},
     "output_type": "execute_result"
    }
   ],
   "source": [
    "# How many rows and columns in our finished test set\n",
    "tf_idf_X_test.shape"
   ]
  },
  {
   "cell_type": "markdown",
   "metadata": {},
   "source": [
    "## Train a baseline Random Forest model with no tuning"
   ]
  },
  {
   "cell_type": "code",
   "execution_count": 42,
   "metadata": {},
   "outputs": [],
   "source": [
    "# Instantiate RandomForestClassifier\n",
    "rf_classifier = RandomForestClassifier(n_estimators=20)"
   ]
  },
  {
   "cell_type": "code",
   "execution_count": 43,
   "metadata": {},
   "outputs": [],
   "source": [
    "# Train the RandomForestClassifier model\n",
    "rf_classifier.fit(tf_idf_X_train, y_train)\n",
    "rf_train_preds = rf_classifier.predict(tf_idf_X_train)\n",
    "rf_test_preds = rf_classifier.predict(tf_idf_X_test)"
   ]
  },
  {
   "cell_type": "code",
   "execution_count": 44,
   "metadata": {},
   "outputs": [
    {
     "name": "stdout",
     "output_type": "stream",
     "text": [
      "Training metrics:\n",
      "f1_score: 0.998\n",
      "accuracy_score: 0.996\n",
      "recall_score: 1.0\n",
      "precision_score: 0.996\n",
      "\n",
      "Test metrics\n",
      "f1_score: 0.927\n",
      "accuracy_score: 0.869\n",
      "recall_score: 0.988\n",
      "precision_score: 0.872\n"
     ]
    },
    {
     "data": {
      "image/png": "[encoded data removed]",
      "text/plain": [
       "<Figure size 1152x360 with 4 Axes>"
      ]
     },
     "metadata": {
      "needs_background": "light"
     },
     "output_type": "display_data"
    }
   ],
   "source": [
    "# Get performance metrics\n",
    "get_perf_metrics(tf_idf_X_train, y_train, tf_idf_X_test, y_test, rf_classifier)"
   ]
  },
  {
   "cell_type": "markdown",
   "metadata": {},
   "source": [
    "## Initial observations:\n",
    "* **Performance metrics are too high:** These are some pretty high performance metrics (all perfect scores for training, and almost perfect recall in test set), at first glance it seems like everything is going well. Who doesn't love high numbers? But the real issue here is that the model is almost always predicting 1s. Even a terrible model that always predicts 1 will have a perfect recall.\n",
    "* **Overfitting:** The random forest classifier is seriously overfit, which we'd expect with a sparse matrix of over 5000 features and no regularization.\n",
    "* **Class Imbalance:** We still see that there's a class imbalance problem with our positive labels occuring 6 times as often as the negative labels. In the test set, our model only predicted a negative sentiment 30 out of 595 times or 5% even though the correct portion of negative tweets was closer to 16%. This issue is likely a symptom of the class imbalance present in the training data. The class imbalance issue also contributes to deceiving but very high performance metrics."
   ]
  },
  {
   "cell_type": "markdown",
   "metadata": {},
   "source": [
    "# Tuning the model"
   ]
  },
  {
   "cell_type": "markdown",
   "metadata": {},
   "source": [
    "## Resample to solve class imbalance"
   ]
  },
  {
   "cell_type": "code",
   "execution_count": 32,
   "metadata": {},
   "outputs": [
    {
     "data": {
      "text/plain": [
       "1    2383\n",
       "0     455\n",
       "Name: emotion_directed_at_brand, dtype: int64"
      ]
     },
     "execution_count": 32,
     "metadata": {},
     "output_type": "execute_result"
    }
   ],
   "source": [
    "# Previous original class distribution\n",
    "y_train.value_counts()"
   ]
  },
  {
   "cell_type": "code",
   "execution_count": 33,
   "metadata": {},
   "outputs": [],
   "source": [
    "# Fit SMOTE to training data\n",
    "X_train_resampled, y_train_resampled = SMOTE().fit_resample(tf_idf_X_train, y_train)"
   ]
  },
  {
   "cell_type": "code",
   "execution_count": 36,
   "metadata": {},
   "outputs": [
    {
     "data": {
      "text/plain": [
       "1    2383\n",
       "0    2383\n",
       "Name: emotion_directed_at_brand, dtype: int64"
      ]
     },
     "execution_count": 36,
     "metadata": {},
     "output_type": "execute_result"
    }
   ],
   "source": [
    "# Check that new class proportions are correct\n",
    "pd.Series(y_train_resampled).value_counts()"
   ]
  },
  {
   "cell_type": "code",
   "execution_count": 38,
   "metadata": {},
   "outputs": [],
   "source": [
    "# Instantiate new RandomForestClassifier\n",
    "smote_rf_classifier = RandomForestClassifier(n_estimators=100)"
   ]
  },
  {
   "cell_type": "code",
   "execution_count": 39,
   "metadata": {},
   "outputs": [],
   "source": [
    "# Retrain the RandomForestClassifier model this time with SMOTE\n",
    "smote_rf_classifier.fit(X_train_resampled, y_train_resampled)\n",
    "rf_train_preds = smote_rf_classifier.predict(tf_idf_X_train)\n",
    "rf_test_preds = smote_rf_classifier.predict(tf_idf_X_test)"
   ]
  },
  {
   "cell_type": "code",
   "execution_count": 52,
   "metadata": {},
   "outputs": [
    {
     "name": "stdout",
     "output_type": "stream",
     "text": [
      "Training metrics:\n",
      "f1_score: 1.0\n",
      "accuracy_score: 1.0\n",
      "recall_score: 1.0\n",
      "precision_score: 1.0\n",
      "\n",
      "Test metrics\n",
      "f1_score: 0.926\n",
      "accuracy_score: 0.869\n",
      "recall_score: 0.983\n",
      "precision_score: 0.876\n"
     ]
    },
    {
     "data": {
      "image/png": "[encoded data removed]",
      "text/plain": [
       "<Figure size 1152x360 with 4 Axes>"
      ]
     },
     "metadata": {
      "needs_background": "light"
     },
     "output_type": "display_data"
    }
   ],
   "source": [
    "# Get performance metrics\n",
    "get_perf_metrics(X_train_resampled, y_train_resampled, tf_idf_X_test, y_test, smote_rf_classifier)"
   ]
  },
  {
   "cell_type": "markdown",
   "metadata": {},
   "source": [
    "Bummer. It seems like the class imbalance problem wasn't contributing as much as we thought to the model's behavior of always predicting positive tweet sentiment. Though our model did predict a negative sentiment a tiny bit more. Before we fixed the class imbalance our model only predicted 30 negative sentiments, our new SMOTE model predicted 42. Now that we've addressed the imbalance, let's tune the models hyperparameters to see if we can generalize a bit and reduce the overfitting."
   ]
  },
  {
   "cell_type": "markdown",
   "metadata": {},
   "source": [
    "## Gridsearching hyperparameters to reduce overfitting"
   ]
  },
  {
   "cell_type": "markdown",
   "metadata": {},
   "source": [
    "Now we'll try to make our model a bit more generalized by tweaking its hyperparameter values with GridsearchCV."
   ]
  },
  {
   "cell_type": "code",
   "execution_count": 57,
   "metadata": {},
   "outputs": [
    {
     "data": {
      "text/plain": [
       "GridSearchCV(cv=3, estimator=RandomForestClassifier(),\n",
       "             param_grid={'criterion': ['gini', 'entropy'],\n",
       "                         'max_depth': [None, 2, 6, 10],\n",
       "                         'min_samples_leaf': [1, 3, 6],\n",
       "                         'min_samples_split': [2, 5, 10],\n",
       "                         'n_estimators': [30, 100, 200]})"
      ]
     },
     "execution_count": 57,
     "metadata": {},
     "output_type": "execute_result"
    }
   ],
   "source": [
    "# Takes 4 minutes to run.\n",
    "\n",
    "# Instantiate classifier\n",
    "rf_clf = RandomForestClassifier()\n",
    "\n",
    "# Parameter grid\n",
    "grid = {\n",
    "    'n_estimators': [30, 100, 200],\n",
    "    'criterion': ['gini', 'entropy'],\n",
    "    'max_depth': [None, 2, 6, 10],\n",
    "    'min_samples_split': [2, 5, 10],\n",
    "    'min_samples_leaf': [1, 3, 6]\n",
    "}\n",
    "\n",
    "gridsearch_smote_rf_clf = GridSearchCV(rf_clf, grid, cv=3)\n",
    "gridsearch_smote_rf_clf.fit(X_train_resampled, y_train_resampled)"
   ]
  },
  {
   "cell_type": "code",
   "execution_count": 58,
   "metadata": {},
   "outputs": [
    {
     "data": {
      "text/plain": [
       "{'criterion': 'gini',\n",
       " 'max_depth': None,\n",
       " 'min_samples_leaf': 1,\n",
       " 'min_samples_split': 2,\n",
       " 'n_estimators': 200}"
      ]
     },
     "execution_count": 58,
     "metadata": {},
     "output_type": "execute_result"
    }
   ],
   "source": [
    "# The best combination of parameters in the grid\n",
    "gridsearch_smote_rf_clf.best_params_"
   ]
  },
  {
   "cell_type": "code",
   "execution_count": 59,
   "metadata": {},
   "outputs": [
    {
     "name": "stdout",
     "output_type": "stream",
     "text": [
      "Training metrics:\n",
      "f1_score: 1.0\n",
      "accuracy_score: 1.0\n",
      "recall_score: 1.0\n",
      "precision_score: 1.0\n",
      "\n",
      "Test metrics\n",
      "f1_score: 0.923\n",
      "accuracy_score: 0.862\n",
      "recall_score: 0.983\n",
      "precision_score: 0.869\n"
     ]
    },
    {
     "data": {
      "image/png": "[encoded data removed]",
      "text/plain": [
       "<Figure size 1152x360 with 4 Axes>"
      ]
     },
     "metadata": {
      "needs_background": "light"
     },
     "output_type": "display_data"
    }
   ],
   "source": [
    "get_perf_metrics(X_train_resampled, y_train_resampled, tf_idf_X_test, y_test, gridsearch_smote_rf_clf)"
   ]
  },
  {
   "cell_type": "markdown",
   "metadata": {},
   "source": [
    "That's interesting. The best combination of paramaters tended to be an overfit random forest. You can see that the best performing model was the model that allowed the classifier to become as overfit and complex as it could (ie. No max_depth, highest number of estimators at 200, lowest min_samples_leaf).\n",
    "\n",
    "This leads me to think that we've gotten to the end of the road for our model as it stands. Maybe we could try a different classifier instead of using a random forest, but I think the real problem is that we just don't have enough data. Not including the synthetic data that we generated with SMOTE, our whole corpus only consisted of 3548 tweets of which only ~16% were negative cases."
   ]
  }
 ],
 "metadata": {
  "kernelspec": {
   "display_name": "Python 3",
   "language": "python",
   "name": "python3"
  },
  "language_info": {
   "codemirror_mode": {
    "name": "ipython",
    "version": 3
   },
   "file_extension": ".py",
   "mimetype": "text/x-python",
   "name": "python",
   "nbconvert_exporter": "python",
   "pygments_lexer": "ipython3",
   "version": "3.6.9"
  },
  "toc": {
   "base_numbering": 1,
   "nav_menu": {},
   "number_sections": true,
   "sideBar": true,
   "skip_h1_title": false,
   "title_cell": "Table of Contents",
   "title_sidebar": "Contents",
   "toc_cell": false,
   "toc_position": {
    "height": "calc(100% - 180px)",
    "left": "10px",
    "top": "150px",
    "width": "384px"
   },
   "toc_section_display": true,
   "toc_window_display": false
  }
 },
 "nbformat": 4,
 "nbformat_minor": 2
}
